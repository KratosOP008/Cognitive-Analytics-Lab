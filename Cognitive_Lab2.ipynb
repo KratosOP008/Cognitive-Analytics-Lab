{
  "nbformat": 4,
  "nbformat_minor": 0,
  "metadata": {
    "colab": {
      "provenance": [],
      "authorship_tag": "ABX9TyMC2D6BBKGBq4oYbPBZ1+nf",
      "include_colab_link": true
    },
    "kernelspec": {
      "name": "python3",
      "display_name": "Python 3"
    },
    "language_info": {
      "name": "python"
    }
  },
  "cells": [
    {
      "cell_type": "markdown",
      "metadata": {
        "id": "view-in-github",
        "colab_type": "text"
      },
      "source": [
        "<a href=\"https://colab.research.google.com/github/KratosOP008/Cognitive-Analytics-Lab/blob/main/Cognitive_Lab2.ipynb\" target=\"_parent\"><img src=\"https://colab.research.google.com/assets/colab-badge.svg\" alt=\"Open In Colab\"/></a>"
      ]
    },
    {
      "cell_type": "code",
      "execution_count": null,
      "metadata": {
        "id": "mpV1h3MTpStc"
      },
      "outputs": [],
      "source": [
        "import tensorflow as tf\n",
        "from tensorflow.keras.models import Sequential\n",
        "from tensorflow.keras.layers import Dense"
      ]
    },
    {
      "cell_type": "code",
      "source": [
        "def create_model():\n",
        "    model = Sequential()\n",
        "\n",
        "    # Get user input for the number of layers\n",
        "    num_layers = int(input(\"Enter the number of layers: \"))\n",
        "\n",
        "    for i in range(num_layers):\n",
        "        # Get user input for the number of neurons in each layer\n",
        "        num_neurons = int(input(f\"Enter the number of neurons for layer {i + 1}: \"))\n",
        "\n",
        "        # Get user input for the type of activation function\n",
        "        activation_function = input(f\"Enter the activation function for layer {i + 1} (e.g., 'relu', 'sigmoid'): \")\n",
        "\n",
        "        # Add a layer with the specified number of neurons and activation function\n",
        "        model.add(Dense(units=num_neurons, activation=activation_function))\n",
        "\n",
        "    # Get user input for the learning rate\n",
        "    learning_rate = float(input(\"Enter the learning rate for backpropagation: \"))\n",
        "\n",
        "    # Get user input for the type of optimizer\n",
        "    optimizer_type = input(\"Enter the optimizer type (e.g., 'Adam', 'SGD'): \")\n",
        "\n",
        "    # Create the optimizer with the specified learning rate\n",
        "    optimizer = getattr(tf.keras.optimizers, optimizer_type)(learning_rate=learning_rate)\n",
        "\n",
        "    # Compile the model with the created optimizer\n",
        "    model.compile(optimizer=optimizer, loss='binary_crossentropy', metrics=['accuracy'])\n",
        "\n",
        "    # Build the model\n",
        "    model.build((None, num_neurons))  # Assuming num_neurons is the input shape\n",
        "    return model"
      ],
      "metadata": {
        "id": "nG0X48xtpg9x"
      },
      "execution_count": null,
      "outputs": []
    },
    {
      "cell_type": "code",
      "source": [
        "# Create the model\n",
        "custom_model = create_model()\n",
        "\n",
        "# Display the model summary\n",
        "custom_model.summary()"
      ],
      "metadata": {
        "colab": {
          "base_uri": "https://localhost:8080/"
        },
        "id": "cst3cr3Oplad",
        "outputId": "91fcf23e-d881-4d41-a9db-35cb9cdf5263"
      },
      "execution_count": null,
      "outputs": [
        {
          "output_type": "stream",
          "name": "stdout",
          "text": [
            "Enter the number of layers: 3\n",
            "Enter the number of neurons for layer 1: 2\n",
            "Enter the activation function for layer 1 (e.g., 'relu', 'sigmoid'): sigmoid\n",
            "Enter the number of neurons for layer 2: 3\n",
            "Enter the activation function for layer 2 (e.g., 'relu', 'sigmoid'): sigmoid\n",
            "Enter the number of neurons for layer 3: 2\n",
            "Enter the activation function for layer 3 (e.g., 'relu', 'sigmoid'): sigmoid\n",
            "Enter the learning rate for backpropagation: 0.8\n",
            "Enter the optimizer type (e.g., 'Adam', 'SGD'): Adam\n",
            "Model: \"sequential_5\"\n",
            "_________________________________________________________________\n",
            " Layer (type)                Output Shape              Param #   \n",
            "=================================================================\n",
            " dense_11 (Dense)            (None, 2)                 6         \n",
            "                                                                 \n",
            " dense_12 (Dense)            (None, 3)                 9         \n",
            "                                                                 \n",
            " dense_13 (Dense)            (None, 2)                 8         \n",
            "                                                                 \n",
            "=================================================================\n",
            "Total params: 23 (92.00 Byte)\n",
            "Trainable params: 23 (92.00 Byte)\n",
            "Non-trainable params: 0 (0.00 Byte)\n",
            "_________________________________________________________________\n"
          ]
        }
      ]
    },
    {
      "cell_type": "code",
      "source": [],
      "metadata": {
        "id": "2IYWA456pmKw"
      },
      "execution_count": null,
      "outputs": []
    }
  ]
}